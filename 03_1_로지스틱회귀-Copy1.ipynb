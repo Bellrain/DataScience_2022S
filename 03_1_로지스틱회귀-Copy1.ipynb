{
 "cells": [
  {
   "cell_type": "markdown",
   "id": "6004c80a-6c43-41bc-aede-abd6ad6c19cc",
   "metadata": {},
   "source": [
    "## 로지스틱회귀"
   ]
  },
  {
   "cell_type": "code",
   "execution_count": 7,
   "id": "3f316b4f-67d7-451c-8472-53a18bf38344",
   "metadata": {},
   "outputs": [],
   "source": [
    "import pandas as pd"
   ]
  },
  {
   "cell_type": "code",
   "execution_count": 8,
   "id": "60e1fc89-8124-454c-899a-71c2b78250c1",
   "metadata": {},
   "outputs": [],
   "source": [
    "df=pd.read_csv('https://raw.githubusercontent.com/ralbu85/DataScience_2022S/master/data/classification_data.csv')"
   ]
  },
  {
   "cell_type": "code",
   "execution_count": 9,
   "id": "ccda1c47-5d76-4b8c-9955-7ba26c29b97d",
   "metadata": {},
   "outputs": [
    {
     "data": {
      "text/html": [
       "<div>\n",
       "<style scoped>\n",
       "    .dataframe tbody tr th:only-of-type {\n",
       "        vertical-align: middle;\n",
       "    }\n",
       "\n",
       "    .dataframe tbody tr th {\n",
       "        vertical-align: top;\n",
       "    }\n",
       "\n",
       "    .dataframe thead th {\n",
       "        text-align: right;\n",
       "    }\n",
       "</style>\n",
       "<table border=\"1\" class=\"dataframe\">\n",
       "  <thead>\n",
       "    <tr style=\"text-align: right;\">\n",
       "      <th></th>\n",
       "      <th>X1</th>\n",
       "      <th>X2</th>\n",
       "      <th>y</th>\n",
       "    </tr>\n",
       "  </thead>\n",
       "  <tbody>\n",
       "    <tr>\n",
       "      <th>0</th>\n",
       "      <td>-2.056844</td>\n",
       "      <td>-0.752741</td>\n",
       "      <td>0</td>\n",
       "    </tr>\n",
       "    <tr>\n",
       "      <th>1</th>\n",
       "      <td>1.760238</td>\n",
       "      <td>1.558517</td>\n",
       "      <td>1</td>\n",
       "    </tr>\n",
       "    <tr>\n",
       "      <th>2</th>\n",
       "      <td>-0.447763</td>\n",
       "      <td>-1.554927</td>\n",
       "      <td>1</td>\n",
       "    </tr>\n",
       "    <tr>\n",
       "      <th>3</th>\n",
       "      <td>1.008459</td>\n",
       "      <td>0.529517</td>\n",
       "      <td>1</td>\n",
       "    </tr>\n",
       "    <tr>\n",
       "      <th>4</th>\n",
       "      <td>0.636547</td>\n",
       "      <td>0.409058</td>\n",
       "      <td>1</td>\n",
       "    </tr>\n",
       "    <tr>\n",
       "      <th>...</th>\n",
       "      <td>...</td>\n",
       "      <td>...</td>\n",
       "      <td>...</td>\n",
       "    </tr>\n",
       "    <tr>\n",
       "      <th>95</th>\n",
       "      <td>-0.129932</td>\n",
       "      <td>-0.797169</td>\n",
       "      <td>0</td>\n",
       "    </tr>\n",
       "    <tr>\n",
       "      <th>96</th>\n",
       "      <td>1.426902</td>\n",
       "      <td>1.244639</td>\n",
       "      <td>1</td>\n",
       "    </tr>\n",
       "    <tr>\n",
       "      <th>97</th>\n",
       "      <td>-0.582968</td>\n",
       "      <td>1.630750</td>\n",
       "      <td>1</td>\n",
       "    </tr>\n",
       "    <tr>\n",
       "      <th>98</th>\n",
       "      <td>-0.619720</td>\n",
       "      <td>1.630840</td>\n",
       "      <td>0</td>\n",
       "    </tr>\n",
       "    <tr>\n",
       "      <th>99</th>\n",
       "      <td>1.938929</td>\n",
       "      <td>0.069963</td>\n",
       "      <td>1</td>\n",
       "    </tr>\n",
       "  </tbody>\n",
       "</table>\n",
       "<p>100 rows × 3 columns</p>\n",
       "</div>"
      ],
      "text/plain": [
       "          X1        X2  y\n",
       "0  -2.056844 -0.752741  0\n",
       "1   1.760238  1.558517  1\n",
       "2  -0.447763 -1.554927  1\n",
       "3   1.008459  0.529517  1\n",
       "4   0.636547  0.409058  1\n",
       "..       ...       ... ..\n",
       "95 -0.129932 -0.797169  0\n",
       "96  1.426902  1.244639  1\n",
       "97 -0.582968  1.630750  1\n",
       "98 -0.619720  1.630840  0\n",
       "99  1.938929  0.069963  1\n",
       "\n",
       "[100 rows x 3 columns]"
      ]
     },
     "execution_count": 9,
     "metadata": {},
     "output_type": "execute_result"
    }
   ],
   "source": [
    "df"
   ]
  },
  {
   "cell_type": "markdown",
   "id": "d0519e66-f6d6-4fd2-b505-42514bc292b5",
   "metadata": {},
   "source": [
    "## 로지스틱 회귀"
   ]
  },
  {
   "cell_type": "code",
   "execution_count": 10,
   "id": "130c1f60-55c1-4838-9064-0be1699b0ef3",
   "metadata": {
    "tags": []
   },
   "outputs": [],
   "source": [
    "from sklearn.linear_model import LogisticRegression"
   ]
  },
  {
   "cell_type": "code",
   "execution_count": 11,
   "id": "f872696c-02a3-4042-89e0-b421329762d8",
   "metadata": {},
   "outputs": [],
   "source": [
    "reg=LogisticRegression()"
   ]
  },
  {
   "cell_type": "markdown",
   "id": "e75f003d-597d-4d3d-ab34-fb9b8699a8da",
   "metadata": {},
   "source": [
    "### 데이터 분할"
   ]
  },
  {
   "cell_type": "code",
   "execution_count": 12,
   "id": "d6f4caae-22c7-47dc-a967-96fb0dfb0a80",
   "metadata": {},
   "outputs": [],
   "source": [
    "X = df[['X1','X2']]"
   ]
  },
  {
   "cell_type": "code",
   "execution_count": 13,
   "id": "81aa4c50-4178-4a25-874a-ee65c571f70e",
   "metadata": {},
   "outputs": [],
   "source": [
    "y = df['y']"
   ]
  },
  {
   "cell_type": "code",
   "execution_count": 14,
   "id": "2aedc921-e597-43d6-928e-160be4edf860",
   "metadata": {},
   "outputs": [
    {
     "data": {
      "text/plain": [
       "LogisticRegression()"
      ]
     },
     "execution_count": 14,
     "metadata": {},
     "output_type": "execute_result"
    }
   ],
   "source": [
    "reg.fit(X,y)"
   ]
  },
  {
   "cell_type": "markdown",
   "id": "3578cc27-b35e-437b-aaed-debb511420cc",
   "metadata": {},
   "source": [
    "## 예측된 값 csv 파일로 내보내기"
   ]
  },
  {
   "cell_type": "code",
   "execution_count": 22,
   "id": "07014546-36a9-41a0-af97-e970af1d4acd",
   "metadata": {},
   "outputs": [],
   "source": [
    "import numpy as np\n",
    "result=reg.predict(X)\n",
    "pd.Series(result).to_csv('result.csv',index=False)"
   ]
  }
 ],
 "metadata": {
  "kernelspec": {
   "display_name": "Python 3 (ipykernel)",
   "language": "python",
   "name": "python3"
  },
  "language_info": {
   "codemirror_mode": {
    "name": "ipython",
    "version": 3
   },
   "file_extension": ".py",
   "mimetype": "text/x-python",
   "name": "python",
   "nbconvert_exporter": "python",
   "pygments_lexer": "ipython3",
   "version": "3.8.10"
  }
 },
 "nbformat": 4,
 "nbformat_minor": 5
}
