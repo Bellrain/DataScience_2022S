{
 "cells": [
  {
   "cell_type": "code",
   "execution_count": 118,
   "id": "e1fdc5c0-5b84-4452-9a2e-40c68e9e3885",
   "metadata": {},
   "outputs": [],
   "source": [
    "import numpy as np"
   ]
  },
  {
   "cell_type": "code",
   "execution_count": 232,
   "id": "58a66125-7be4-4d0b-97c4-358f4ce9fed7",
   "metadata": {},
   "outputs": [
    {
     "data": {
      "text/plain": [
       "<matplotlib.collections.PathCollection at 0x7efe39727e50>"
      ]
     },
     "execution_count": 232,
     "metadata": {},
     "output_type": "execute_result"
    },
    {
     "data": {
      "image/png": "[encoded data removed]",
      "text/plain": [
       "<Figure size 432x288 with 1 Axes>"
      ]
     },
     "metadata": {
      "needs_background": "light"
     },
     "output_type": "display_data"
    }
   ],
   "source": [
    "X=np.linspace(-5,3,100)\n",
    "y=0.1*(X_-3)*(X_+3)*(X_+1)*(X_+5)\n",
    "y+=1*np.random.normal(1,size=100)\n",
    "plt.scatter(X,y)"
   ]
  },
  {
   "cell_type": "code",
   "execution_count": 236,
   "id": "af23697d-ed25-47de-b688-f52c23397937",
   "metadata": {},
   "outputs": [],
   "source": [
    "data=np.column_stack((X_,y_))"
   ]
  },
  {
   "cell_type": "markdown",
   "id": "73f7b840-4a3d-4367-8e03-5689fbd64620",
   "metadata": {},
   "source": [
    "## Train-test-split"
   ]
  },
  {
   "cell_type": "code",
   "execution_count": 237,
   "id": "ea87ffbd-b3a2-4063-9c9a-ba4429c4cd3a",
   "metadata": {},
   "outputs": [],
   "source": [
    "# 데이터를 무작위로 섞음\n",
    "np.random.shuffle(data)\n",
    "# data # 순서 바뀌는것 확인"
   ]
  },
  {
   "cell_type": "code",
   "execution_count": 238,
   "id": "d70d8fe9-c084-454e-9ee2-428940e7f8e7",
   "metadata": {},
   "outputs": [],
   "source": [
    "train=data[:70,:]\n",
    "test=data[70:,:]"
   ]
  },
  {
   "cell_type": "code",
   "execution_count": 239,
   "id": "b6dd2665-6a38-4f98-ac41-de18f68693b0",
   "metadata": {},
   "outputs": [
    {
     "name": "stdout",
     "output_type": "stream",
     "text": [
      "(70, 2)\n",
      "(30, 2)\n"
     ]
    }
   ],
   "source": [
    "print(train.shape)\n",
    "print(test.shape)"
   ]
  },
  {
   "cell_type": "code",
   "execution_count": 240,
   "id": "8faeecac-b197-470e-b112-42325e155535",
   "metadata": {},
   "outputs": [],
   "source": [
    "from sklearn.linear_model import LinearRegression\n",
    "reg=LinearRegression()"
   ]
  },
  {
   "cell_type": "markdown",
   "id": "5bfef343-fcf3-4077-8647-0e9065aeb44d",
   "metadata": {},
   "source": [
    "### train 데이터를 이용하여 훈련"
   ]
  },
  {
   "cell_type": "code",
   "execution_count": 241,
   "id": "10c3f1f9-a9af-4119-9a16-6da4606b060b",
   "metadata": {},
   "outputs": [
    {
     "data": {
      "text/plain": [
       "LinearRegression()"
      ]
     },
     "execution_count": 241,
     "metadata": {},
     "output_type": "execute_result"
    }
   ],
   "source": [
    "X_train=train[:,0].reshape(-1,1)\n",
    "y_train=train[:,1]\n",
    "reg.fit(X_train,y_train)"
   ]
  },
  {
   "cell_type": "markdown",
   "id": "bb8a5700-5d17-4585-9edf-caa66cfedfbe",
   "metadata": {},
   "source": [
    "### test 데이터를 이용한 검증"
   ]
  },
  {
   "cell_type": "code",
   "execution_count": 242,
   "id": "85e53a87-9868-4fdf-b6d7-c5134e3df026",
   "metadata": {},
   "outputs": [],
   "source": [
    "X_test=test[:,0].reshape(-1,1)\n",
    "y_test=test[:,1]\n",
    "y_pred=reg.predict(X_test)"
   ]
  },
  {
   "cell_type": "code",
   "execution_count": 243,
   "id": "60ff37dc-8676-4732-ab19-6c164388e0ac",
   "metadata": {},
   "outputs": [
    {
     "data": {
      "text/plain": [
       "8.070319723429487"
      ]
     },
     "execution_count": 243,
     "metadata": {},
     "output_type": "execute_result"
    }
   ],
   "source": [
    "from sklearn.metrics import mean_squared_error\n",
    "mean_squared_error(y_test,y_pred)"
   ]
  },
  {
   "cell_type": "markdown",
   "id": "6b7c006d-3641-4a3c-984e-ce3ae41a138b",
   "metadata": {},
   "source": [
    "## sklearn을 이용한 train_test_split"
   ]
  },
  {
   "cell_type": "code",
   "execution_count": 244,
   "id": "38b2def8-465d-4ba1-b9ea-4aa1b8754f80",
   "metadata": {},
   "outputs": [],
   "source": [
    "from sklearn.model_selection import train_test_split\n",
    "X_train,X_test,y_train,y_test=train_test_split(data[:,0].reshape(-1,1),data[:,1],test_size=0.3,shuffle=True)"
   ]
  },
  {
   "cell_type": "code",
   "execution_count": 245,
   "id": "b1fec20a-ecb4-4033-a786-937f8966bfeb",
   "metadata": {},
   "outputs": [
    {
     "name": "stdout",
     "output_type": "stream",
     "text": [
      "(70, 1)\n",
      "(30, 1)\n",
      "(70,)\n",
      "(30,)\n"
     ]
    }
   ],
   "source": [
    "print(X_train.shape)\n",
    "print(X_test.shape)\n",
    "print(y_train.shape)\n",
    "print(y_test.shape)"
   ]
  },
  {
   "cell_type": "code",
   "execution_count": 246,
   "id": "9f7c6a1e-8b11-4ea5-82d7-5b25f71a5ac4",
   "metadata": {},
   "outputs": [],
   "source": [
    "reg.fit(X_train,y_train)\n",
    "y_pred=reg.predict(X_test)\n"
   ]
  },
  {
   "cell_type": "code",
   "execution_count": 247,
   "id": "2e8758e7-66fb-4831-a57b-a37fd7ea05f1",
   "metadata": {},
   "outputs": [
    {
     "data": {
      "text/plain": [
       "9.948186924717744"
      ]
     },
     "execution_count": 247,
     "metadata": {},
     "output_type": "execute_result"
    }
   ],
   "source": [
    "mean_squared_error(y_test,y_pred)"
   ]
  },
  {
   "cell_type": "markdown",
   "id": "6953dd3c-e148-42ce-b419-0c97780d7388",
   "metadata": {},
   "source": [
    "## 차수를 변경해가며 검증"
   ]
  },
  {
   "cell_type": "code",
   "execution_count": 248,
   "id": "5cc1876a-8af4-4fe3-8b36-eaaafbfe699f",
   "metadata": {},
   "outputs": [
    {
     "data": {
      "text/plain": [
       "[<matplotlib.lines.Line2D at 0x7efe396a44f0>]"
      ]
     },
     "execution_count": 248,
     "metadata": {},
     "output_type": "execute_result"
    },
    {
     "data": {
      "image/png": "[encoded data removed]",
      "text/plain": [
       "<Figure size 432x288 with 1 Axes>"
      ]
     },
     "metadata": {
      "needs_background": "light"
     },
     "output_type": "display_data"
    }
   ],
   "source": [
    "from sklearn.preprocessing import PolynomialFeatures\n",
    "mse=[]\n",
    "for i in range(1,20):\n",
    "    poly=PolynomialFeatures(degree=i,include_bias=False)    \n",
    "    reg.fit(poly.fit_transform(X_train),y_train)\n",
    "    y_pred=reg.predict(poly.fit_transform(X_test))\n",
    "    mse.append(mean_squared_error(y_test,y_pred))\n",
    "plt.plot(mse)\n",
    "    "
   ]
  },
  {
   "cell_type": "code",
   "execution_count": 253,
   "id": "e385cc97-1f5d-4d5a-bf88-98a310796ee3",
   "metadata": {},
   "outputs": [
    {
     "data": {
      "image/png": "[encoded data removed]",
      "text/plain": [
       "<Figure size 432x288 with 1 Axes>"
      ]
     },
     "metadata": {
      "needs_background": "light"
     },
     "output_type": "display_data"
    }
   ],
   "source": [
    "from sklearn.preprocessing import PolynomialFeatures\n",
    "for s in range(20):\n",
    "    mse=[]\n",
    "    X_train,X_test,y_train,y_test = train_test_split(data[:,0].reshape(-1,1),data[:,1],test_size=0.3,shuffle=True)\n",
    "    for i in range(1,10):\n",
    "        poly=PolynomialFeatures(degree=i,include_bias=False)    \n",
    "        reg.fit(poly.fit_transform(X_train),y_train)\n",
    "        y_pred=reg.predict(poly.fit_transform(X_test))\n",
    "        mse.append(mean_squared_error(y_test,y_pred))\n",
    "    plt.plot(mse)\n",
    "    "
   ]
  },
  {
   "cell_type": "markdown",
   "id": "8002f668-0fc6-4709-a37f-8cd5233198e7",
   "metadata": {},
   "source": [
    "data"
   ]
  }
 ],
 "metadata": {
  "kernelspec": {
   "display_name": "Python 3 (ipykernel)",
   "language": "python",
   "name": "python3"
  },
  "language_info": {
   "codemirror_mode": {
    "name": "ipython",
    "version": 3
   },
   "file_extension": ".py",
   "mimetype": "text/x-python",
   "name": "python",
   "nbconvert_exporter": "python",
   "pygments_lexer": "ipython3",
   "version": "3.8.10"
  }
 },
 "nbformat": 4,
 "nbformat_minor": 5
}
