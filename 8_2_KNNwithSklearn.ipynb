{
 "cells": [
  {
   "cell_type": "markdown",
   "id": "a17bcf40-c5e6-4c6e-b109-7695d227182d",
   "metadata": {},
   "source": [
    "## 8_2 KNN using SKLEARN"
   ]
  },
  {
   "cell_type": "code",
   "execution_count": 1,
   "id": "816a6ffe-ed84-47c0-a746-857226409818",
   "metadata": {},
   "outputs": [],
   "source": [
    "import pandas as pd\n",
    "df=pd.read_csv('https://raw.githubusercontent.com/ralbu85/DataScience_2022S/master/data/auto.csv')"
   ]
  },
  {
   "cell_type": "code",
   "execution_count": 2,
   "id": "103039fd-e441-440e-8b58-51a08358843d",
   "metadata": {},
   "outputs": [
    {
     "data": {
      "text/html": [
       "<div>\n",
       "<style scoped>\n",
       "    .dataframe tbody tr th:only-of-type {\n",
       "        vertical-align: middle;\n",
       "    }\n",
       "\n",
       "    .dataframe tbody tr th {\n",
       "        vertical-align: top;\n",
       "    }\n",
       "\n",
       "    .dataframe thead th {\n",
       "        text-align: right;\n",
       "    }\n",
       "</style>\n",
       "<table border=\"1\" class=\"dataframe\">\n",
       "  <thead>\n",
       "    <tr style=\"text-align: right;\">\n",
       "      <th></th>\n",
       "      <th>cylinders</th>\n",
       "      <th>displacement</th>\n",
       "      <th>horsepower</th>\n",
       "      <th>weight</th>\n",
       "      <th>acceleration</th>\n",
       "      <th>model_year</th>\n",
       "      <th>origin</th>\n",
       "      <th>mpg</th>\n",
       "    </tr>\n",
       "  </thead>\n",
       "  <tbody>\n",
       "    <tr>\n",
       "      <th>0</th>\n",
       "      <td>8</td>\n",
       "      <td>307.0</td>\n",
       "      <td>130.0</td>\n",
       "      <td>3504.0</td>\n",
       "      <td>12.0</td>\n",
       "      <td>70</td>\n",
       "      <td>1</td>\n",
       "      <td>18.0</td>\n",
       "    </tr>\n",
       "    <tr>\n",
       "      <th>1</th>\n",
       "      <td>8</td>\n",
       "      <td>350.0</td>\n",
       "      <td>165.0</td>\n",
       "      <td>3693.0</td>\n",
       "      <td>11.5</td>\n",
       "      <td>70</td>\n",
       "      <td>1</td>\n",
       "      <td>15.0</td>\n",
       "    </tr>\n",
       "    <tr>\n",
       "      <th>2</th>\n",
       "      <td>8</td>\n",
       "      <td>318.0</td>\n",
       "      <td>150.0</td>\n",
       "      <td>3436.0</td>\n",
       "      <td>11.0</td>\n",
       "      <td>70</td>\n",
       "      <td>1</td>\n",
       "      <td>18.0</td>\n",
       "    </tr>\n",
       "    <tr>\n",
       "      <th>3</th>\n",
       "      <td>8</td>\n",
       "      <td>304.0</td>\n",
       "      <td>150.0</td>\n",
       "      <td>3433.0</td>\n",
       "      <td>12.0</td>\n",
       "      <td>70</td>\n",
       "      <td>1</td>\n",
       "      <td>16.0</td>\n",
       "    </tr>\n",
       "    <tr>\n",
       "      <th>4</th>\n",
       "      <td>8</td>\n",
       "      <td>302.0</td>\n",
       "      <td>140.0</td>\n",
       "      <td>3449.0</td>\n",
       "      <td>10.5</td>\n",
       "      <td>70</td>\n",
       "      <td>1</td>\n",
       "      <td>17.0</td>\n",
       "    </tr>\n",
       "    <tr>\n",
       "      <th>...</th>\n",
       "      <td>...</td>\n",
       "      <td>...</td>\n",
       "      <td>...</td>\n",
       "      <td>...</td>\n",
       "      <td>...</td>\n",
       "      <td>...</td>\n",
       "      <td>...</td>\n",
       "      <td>...</td>\n",
       "    </tr>\n",
       "    <tr>\n",
       "      <th>387</th>\n",
       "      <td>4</td>\n",
       "      <td>140.0</td>\n",
       "      <td>86.0</td>\n",
       "      <td>2790.0</td>\n",
       "      <td>15.6</td>\n",
       "      <td>82</td>\n",
       "      <td>1</td>\n",
       "      <td>27.0</td>\n",
       "    </tr>\n",
       "    <tr>\n",
       "      <th>388</th>\n",
       "      <td>4</td>\n",
       "      <td>97.0</td>\n",
       "      <td>52.0</td>\n",
       "      <td>2130.0</td>\n",
       "      <td>24.6</td>\n",
       "      <td>82</td>\n",
       "      <td>2</td>\n",
       "      <td>44.0</td>\n",
       "    </tr>\n",
       "    <tr>\n",
       "      <th>389</th>\n",
       "      <td>4</td>\n",
       "      <td>135.0</td>\n",
       "      <td>84.0</td>\n",
       "      <td>2295.0</td>\n",
       "      <td>11.6</td>\n",
       "      <td>82</td>\n",
       "      <td>1</td>\n",
       "      <td>32.0</td>\n",
       "    </tr>\n",
       "    <tr>\n",
       "      <th>390</th>\n",
       "      <td>4</td>\n",
       "      <td>120.0</td>\n",
       "      <td>79.0</td>\n",
       "      <td>2625.0</td>\n",
       "      <td>18.6</td>\n",
       "      <td>82</td>\n",
       "      <td>1</td>\n",
       "      <td>28.0</td>\n",
       "    </tr>\n",
       "    <tr>\n",
       "      <th>391</th>\n",
       "      <td>4</td>\n",
       "      <td>119.0</td>\n",
       "      <td>82.0</td>\n",
       "      <td>2720.0</td>\n",
       "      <td>19.4</td>\n",
       "      <td>82</td>\n",
       "      <td>1</td>\n",
       "      <td>31.0</td>\n",
       "    </tr>\n",
       "  </tbody>\n",
       "</table>\n",
       "<p>392 rows × 8 columns</p>\n",
       "</div>"
      ],
      "text/plain": [
       "     cylinders  displacement  horsepower  weight  acceleration  model_year  \\\n",
       "0            8         307.0       130.0  3504.0          12.0          70   \n",
       "1            8         350.0       165.0  3693.0          11.5          70   \n",
       "2            8         318.0       150.0  3436.0          11.0          70   \n",
       "3            8         304.0       150.0  3433.0          12.0          70   \n",
       "4            8         302.0       140.0  3449.0          10.5          70   \n",
       "..         ...           ...         ...     ...           ...         ...   \n",
       "387          4         140.0        86.0  2790.0          15.6          82   \n",
       "388          4          97.0        52.0  2130.0          24.6          82   \n",
       "389          4         135.0        84.0  2295.0          11.6          82   \n",
       "390          4         120.0        79.0  2625.0          18.6          82   \n",
       "391          4         119.0        82.0  2720.0          19.4          82   \n",
       "\n",
       "     origin   mpg  \n",
       "0         1  18.0  \n",
       "1         1  15.0  \n",
       "2         1  18.0  \n",
       "3         1  16.0  \n",
       "4         1  17.0  \n",
       "..      ...   ...  \n",
       "387       1  27.0  \n",
       "388       2  44.0  \n",
       "389       1  32.0  \n",
       "390       1  28.0  \n",
       "391       1  31.0  \n",
       "\n",
       "[392 rows x 8 columns]"
      ]
     },
     "execution_count": 2,
     "metadata": {},
     "output_type": "execute_result"
    }
   ],
   "source": [
    "df"
   ]
  },
  {
   "cell_type": "markdown",
   "id": "6cf4c6af-6567-496f-8817-7d11eb4d4747",
   "metadata": {},
   "source": [
    "## 데이터 나누기"
   ]
  },
  {
   "cell_type": "code",
   "execution_count": 3,
   "id": "04a80614-b450-4c9e-8c56-d2a729fdf501",
   "metadata": {
    "tags": []
   },
   "outputs": [],
   "source": [
    "df=pd.get_dummies(df,columns=['origin'])\n",
    "y=df['mpg']\n",
    "X=df.drop(columns=['mpg'])"
   ]
  },
  {
   "cell_type": "code",
   "execution_count": 5,
   "id": "a2ce39e3-e3e5-4f4a-9e46-c16cc6f84e45",
   "metadata": {},
   "outputs": [
    {
     "name": "stdout",
     "output_type": "stream",
     "text": [
      "2 0.6797594726919363 -19.237774748458293\n",
      "3 0.6944465392419957 -18.36520610191496\n",
      "4 0.7033332859627082 -17.97586256491399\n",
      "5 0.7057280536122711 -17.91522710808179\n",
      "6 0.7178424260160648 -16.852661293230916\n",
      "7 0.7159131283940475 -17.197017758612695\n",
      "8 0.7108417300458507 -17.102078677783187\n",
      "9 0.6955390945822636 -18.58048487143424\n",
      "10 0.7087913028226887 -17.15627612463486\n",
      "11 0.7087214107376305 -17.90813601626605\n",
      "12 0.7198911371907485 -16.970477552832772\n",
      "13 0.7012888995666013 -17.57505562821569\n",
      "14 0.6989687748186186 -17.61990598897787\n",
      "15 0.6915317610879951 -17.7472131443615\n",
      "16 0.7058142249049328 -17.815429054842177\n",
      "17 0.7055086688761227 -17.739997139516785\n",
      "18 0.714089683235283 -17.358072007445077\n",
      "19 0.700289178017844 -18.01948452628522\n",
      "20 0.6972117029725551 -18.075763697663092\n",
      "21 0.7038017709439115 -17.81388710706613\n",
      "22 0.7044666657545733 -17.763036241184977\n",
      "23 0.6997682356308015 -17.996384728892064\n",
      "24 0.708189293359933 -17.536536049239963\n",
      "25 0.7029127847270469 -18.085170006621222\n",
      "26 0.7081071420331209 -17.562314127531018\n",
      "27 0.6986952972671916 -17.552757336994876\n",
      "28 0.7102595257293505 -17.484967276808483\n",
      "29 0.7059676680415166 -17.51670271245534\n"
     ]
    }
   ],
   "source": [
    "from sklearn.neighbors import KNeighborsRegressor\n",
    "from sklearn.model_selection import KFold, cross_validate\n",
    "\n",
    "kfold=KFold(n_splits=5, shuffle=True)\n",
    "for i in range(2,30):\n",
    "    knn = KNeighborsRegressor(n_neighbors=i)\n",
    "    knn.fit(X,y)\n",
    "    result=cross_validate(X=X,y=y,cv=kfold,scoring=['r2','neg_mean_squared_error'],estimator=knn)\n",
    "    print(i, result['test_r2'].mean(), result['test_neg_mean_squared_error'].mean())"
   ]
  },
  {
   "cell_type": "markdown",
   "id": "270453a9-c4a6-48cf-9ed6-9caa866b6ba5",
   "metadata": {},
   "source": [
    "## 데이터 정규화"
   ]
  },
  {
   "cell_type": "code",
   "execution_count": 6,
   "id": "94b21be3-f3a9-4608-98bf-8239d7e1748b",
   "metadata": {},
   "outputs": [],
   "source": [
    "X_norm = (X-X.mean())/X.std()"
   ]
  },
  {
   "cell_type": "code",
   "execution_count": 17,
   "id": "9bea8ca2-bf14-490b-abb4-a9de42cec99f",
   "metadata": {},
   "outputs": [
    {
     "name": "stdout",
     "output_type": "stream",
     "text": [
      "2 0.8253141977573675 -10.382416666666668\n",
      "3 0.8424074927774905 -9.250220130549247\n",
      "4 0.8434020066176761 -9.151905753002273\n",
      "5 0.848329764662631 -9.464497734501787\n",
      "6 0.8542224181358851 -8.698043970211693\n",
      "7 0.841721148521068 -9.389417582417584\n",
      "8 0.8448756115360748 -9.32796405387861\n",
      "9 0.8420490689123185 -9.695081318795804\n",
      "10 0.8215807120716544 -10.816250149302176\n",
      "11 0.8177363886631873 -11.03503918444425\n",
      "12 0.8232257270113171 -10.603584789390169\n",
      "13 0.8268490973876876 -10.398019013268955\n",
      "14 0.8173513707498339 -10.798887596129006\n",
      "15 0.8056857594283574 -11.533641778643297\n",
      "16 0.8117421737846126 -11.377603873793005\n",
      "17 0.8079477477053926 -11.463897712174965\n",
      "18 0.8065206518326586 -11.932052838784909\n",
      "19 0.8088209746270636 -11.575708323106232\n",
      "20 0.7922560524116797 -12.642928693605972\n",
      "21 0.7859330026784801 -12.96010929248904\n",
      "22 0.7813975460188689 -12.836600227735442\n",
      "23 0.7878329563664421 -12.732027325230742\n",
      "24 0.7814904100168796 -13.290763692231058\n",
      "25 0.7890504641511228 -12.898220417267117\n",
      "26 0.7803747256364362 -13.243188155981787\n",
      "27 0.7719070467049081 -13.712987267419368\n",
      "28 0.7715640398846645 -13.67851245454365\n",
      "29 0.768882849063354 -13.738066715525829\n"
     ]
    }
   ],
   "source": [
    "from sklearn.model_selection import KFold, cross_validate\n",
    "kfold=KFold(n_splits=5, shuffle=True)\n",
    "train_mse=[]\n",
    "test_mse=[]\n",
    "for i in range(2,30):\n",
    "    knn = KNeighborsRegressor(n_neighbors=i)\n",
    "    knn.fit(X,y)\n",
    "    result=cross_validate(X=X_norm,y=y,\n",
    "                          cv=kfold,scoring=['r2','neg_mean_squared_error'],\n",
    "                          estimator=knn,\n",
    "                          return_train_score=True)\n",
    "    print(i, result['test_r2'].mean(), result['test_neg_mean_squared_error'].mean())\n",
    "    train_mse.append(-1*result['train_neg_mean_squared_error'].mean())\n",
    "    test_mse.append(-1*result['test_neg_mean_squared_error'].mean())\n",
    "    "
   ]
  },
  {
   "cell_type": "markdown",
   "id": "6c64dac2-f2bb-44f1-8a4c-cf0c0b38fe19",
   "metadata": {},
   "source": [
    "## 하이퍼 패러미터의 영향"
   ]
  },
  {
   "cell_type": "code",
   "execution_count": 20,
   "id": "8455deb6-ed2b-441a-88e3-4211891d5647",
   "metadata": {},
   "outputs": [
    {
     "data": {
      "text/plain": [
       "<matplotlib.legend.Legend at 0x7fcbc86a5fd0>"
      ]
     },
     "execution_count": 20,
     "metadata": {},
     "output_type": "execute_result"
    },
    {
     "data": {
      "image/png": "[encoded data removed]",
      "text/plain": [
       "<Figure size 864x576 with 1 Axes>"
      ]
     },
     "metadata": {
      "needs_background": "light"
     },
     "output_type": "display_data"
    }
   ],
   "source": [
    "import matplotlib.pyplot as plt\n",
    "plt.figure(figsize=(12,8))\n",
    "plt.plot(train_mse, label='train')\n",
    "plt.plot(test_mse, label='test')\n",
    "plt.legend()\n"
   ]
  },
  {
   "cell_type": "markdown",
   "id": "3f7ddccb-fd60-454f-a2b6-b85ada09e386",
   "metadata": {},
   "source": [
    "## MinMax Scaling"
   ]
  },
  {
   "cell_type": "code",
   "execution_count": 8,
   "id": "a12f8547-8ca1-4ba1-9232-cd6186f82442",
   "metadata": {},
   "outputs": [],
   "source": [
    "X_scale = (X-X.min())/(X.max()-X.min())"
   ]
  },
  {
   "cell_type": "code",
   "execution_count": 9,
   "id": "5ef95268-d03f-4fda-b9c5-4cabb84f7df8",
   "metadata": {},
   "outputs": [
    {
     "name": "stdout",
     "output_type": "stream",
     "text": [
      "2 0.8322510072637641 -10.06419636481662\n",
      "3 0.8379217027744683 -9.439669407479535\n",
      "4 0.8519906321565027 -8.807516411067835\n",
      "5 0.8537874201107725 -8.827361389159364\n",
      "6 0.8501233549086956 -9.006559324173248\n",
      "7 0.8574640857152851 -8.687916108605076\n",
      "8 0.8465220453477904 -9.110585179324893\n",
      "9 0.8435466419383457 -9.438352238530861\n",
      "10 0.8320787546643981 -9.990580246673158\n",
      "11 0.8244850878055837 -10.550419212931297\n",
      "12 0.8342404935861726 -10.079098793230914\n",
      "13 0.8189029913922393 -10.992887036215475\n",
      "14 0.8105823052532035 -11.355702890990866\n",
      "15 0.8091351536282726 -11.3995135302391\n",
      "16 0.8019819321481425 -11.596722689214134\n",
      "17 0.8071132119273023 -11.567979412831633\n",
      "18 0.7981634471905033 -12.20248602646247\n",
      "19 0.7867740380178099 -12.332544558238727\n",
      "20 0.7944052238833949 -12.462125963972735\n",
      "21 0.7891318645138108 -13.254316544014554\n",
      "22 0.7890569739348041 -12.588602956403015\n",
      "23 0.7816284397155341 -12.95580766868587\n",
      "24 0.7846517602017278 -12.989497408511847\n",
      "25 0.7814671797050501 -13.207741040441416\n",
      "26 0.777029209775382 -13.176438053233312\n",
      "27 0.7864192769839335 -12.92329499534516\n",
      "28 0.7871991647026435 -13.48680818164656\n",
      "29 0.7626486431595063 -14.135809808959134\n"
     ]
    }
   ],
   "source": [
    "from sklearn.model_selection import KFold, cross_validate\n",
    "kfold=KFold(n_splits=5, shuffle=True)\n",
    "for i in range(2,30):\n",
    "    knn = KNeighborsRegressor(n_neighbors=i)\n",
    "    knn.fit(X_scale,y)\n",
    "    result=cross_validate(X=X_norm,y=y,cv=kfold,scoring=['r2','neg_mean_squared_error'],estimator=knn)\n",
    "    print(i, result['test_r2'].mean(), result['test_neg_mean_squared_error'].mean())"
   ]
  }
 ],
 "metadata": {
  "kernelspec": {
   "display_name": "Python 3 (ipykernel)",
   "language": "python",
   "name": "python3"
  },
  "language_info": {
   "codemirror_mode": {
    "name": "ipython",
    "version": 3
   },
   "file_extension": ".py",
   "mimetype": "text/x-python",
   "name": "python",
   "nbconvert_exporter": "python",
   "pygments_lexer": "ipython3",
   "version": "3.8.10"
  }
 },
 "nbformat": 4,
 "nbformat_minor": 5
}
