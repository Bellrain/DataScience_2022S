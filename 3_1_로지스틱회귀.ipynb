{
 "cells": [
  {
   "cell_type": "markdown",
   "id": "6004c80a-6c43-41bc-aede-abd6ad6c19cc",
   "metadata": {},
   "source": [
    "## 로지스틱회귀"
   ]
  },
  {
   "cell_type": "code",
   "execution_count": 1,
   "id": "3f316b4f-67d7-451c-8472-53a18bf38344",
   "metadata": {},
   "outputs": [],
   "source": [
    "import pandas as pd"
   ]
  },
  {
   "cell_type": "code",
   "execution_count": 2,
   "id": "60e1fc89-8124-454c-899a-71c2b78250c1",
   "metadata": {},
   "outputs": [],
   "source": [
    "df=pd.read_csv('https://raw.githubusercontent.com/ralbu85/DataSet/master/ch4_simple_data.csv')"
   ]
  },
  {
   "cell_type": "code",
   "execution_count": 5,
   "id": "80f3feee-0b7f-477c-b265-de84948bcb2a",
   "metadata": {},
   "outputs": [],
   "source": [
    "df.to_csv('classification_data.csv')"
   ]
  }
 ],
 "metadata": {
  "kernelspec": {
   "display_name": "Python 3 (ipykernel)",
   "language": "python",
   "name": "python3"
  },
  "language_info": {
   "codemirror_mode": {
    "name": "ipython",
    "version": 3
   },
   "file_extension": ".py",
   "mimetype": "text/x-python",
   "name": "python",
   "nbconvert_exporter": "python",
   "pygments_lexer": "ipython3",
   "version": "3.8.10"
  }
 },
 "nbformat": 4,
 "nbformat_minor": 5
}
